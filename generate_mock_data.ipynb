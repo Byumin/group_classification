{
 "cells": [
  {
   "cell_type": "code",
   "execution_count": 1,
   "id": "e3ddda64",
   "metadata": {},
   "outputs": [],
   "source": [
    "import numpy as np\n",
    "import pandas as pd\n",
    "\n",
    "# 랜덤 시드 고정\n",
    "np.random.seed(42)\n",
    "\n",
    "# 모집단 평균과 표준편차 설정\n",
    "mu_x1, sigma_x1 = 70, 10\n",
    "mu_x2, sigma_x2 = 50, 15\n",
    "\n",
    "# 100명의 index, name 생성\n",
    "index = np.arange(1, 101)\n",
    "names = [f\"Person_{i:03d}\" for i in index]\n",
    "\n",
    "# 정규분포 기반 점수 생성 (정규화된 분포를 가정)\n",
    "x1 = np.random.normal(mu_x1, sigma_x1, size=100)\n",
    "x2 = np.random.normal(mu_x2, sigma_x2, size=100)\n",
    "\n",
    "# 데이터프레임 구성\n",
    "df = pd.DataFrame({\n",
    "    'index': index,\n",
    "    'name': names,\n",
    "    'x1': x1,\n",
    "    'x2': x2\n",
    "})"
   ]
  },
  {
   "cell_type": "code",
   "execution_count": 2,
   "id": "3ac9f7b7",
   "metadata": {},
   "outputs": [
    {
     "data": {
      "text/html": [
       "<div>\n",
       "<style scoped>\n",
       "    .dataframe tbody tr th:only-of-type {\n",
       "        vertical-align: middle;\n",
       "    }\n",
       "\n",
       "    .dataframe tbody tr th {\n",
       "        vertical-align: top;\n",
       "    }\n",
       "\n",
       "    .dataframe thead th {\n",
       "        text-align: right;\n",
       "    }\n",
       "</style>\n",
       "<table border=\"1\" class=\"dataframe\">\n",
       "  <thead>\n",
       "    <tr style=\"text-align: right;\">\n",
       "      <th></th>\n",
       "      <th>index</th>\n",
       "      <th>name</th>\n",
       "      <th>x1</th>\n",
       "      <th>x2</th>\n",
       "    </tr>\n",
       "  </thead>\n",
       "  <tbody>\n",
       "    <tr>\n",
       "      <th>0</th>\n",
       "      <td>1</td>\n",
       "      <td>Person_001</td>\n",
       "      <td>74.967142</td>\n",
       "      <td>28.769439</td>\n",
       "    </tr>\n",
       "    <tr>\n",
       "      <th>1</th>\n",
       "      <td>2</td>\n",
       "      <td>Person_002</td>\n",
       "      <td>68.617357</td>\n",
       "      <td>43.690320</td>\n",
       "    </tr>\n",
       "    <tr>\n",
       "      <th>2</th>\n",
       "      <td>3</td>\n",
       "      <td>Person_003</td>\n",
       "      <td>76.476885</td>\n",
       "      <td>44.859282</td>\n",
       "    </tr>\n",
       "    <tr>\n",
       "      <th>3</th>\n",
       "      <td>4</td>\n",
       "      <td>Person_004</td>\n",
       "      <td>85.230299</td>\n",
       "      <td>37.965841</td>\n",
       "    </tr>\n",
       "    <tr>\n",
       "      <th>4</th>\n",
       "      <td>5</td>\n",
       "      <td>Person_005</td>\n",
       "      <td>67.658466</td>\n",
       "      <td>47.580714</td>\n",
       "    </tr>\n",
       "    <tr>\n",
       "      <th>...</th>\n",
       "      <td>...</td>\n",
       "      <td>...</td>\n",
       "      <td>...</td>\n",
       "      <td>...</td>\n",
       "    </tr>\n",
       "    <tr>\n",
       "      <th>95</th>\n",
       "      <td>96</td>\n",
       "      <td>Person_096</td>\n",
       "      <td>55.364851</td>\n",
       "      <td>55.779761</td>\n",
       "    </tr>\n",
       "    <tr>\n",
       "      <th>96</th>\n",
       "      <td>97</td>\n",
       "      <td>Person_097</td>\n",
       "      <td>72.961203</td>\n",
       "      <td>36.742138</td>\n",
       "    </tr>\n",
       "    <tr>\n",
       "      <th>97</th>\n",
       "      <td>98</td>\n",
       "      <td>Person_098</td>\n",
       "      <td>72.610553</td>\n",
       "      <td>52.305877</td>\n",
       "    </tr>\n",
       "    <tr>\n",
       "      <th>98</th>\n",
       "      <td>99</td>\n",
       "      <td>Person_099</td>\n",
       "      <td>70.051135</td>\n",
       "      <td>50.873131</td>\n",
       "    </tr>\n",
       "    <tr>\n",
       "      <th>99</th>\n",
       "      <td>100</td>\n",
       "      <td>Person_100</td>\n",
       "      <td>67.654129</td>\n",
       "      <td>32.855446</td>\n",
       "    </tr>\n",
       "  </tbody>\n",
       "</table>\n",
       "<p>100 rows × 4 columns</p>\n",
       "</div>"
      ],
      "text/plain": [
       "    index        name         x1         x2\n",
       "0       1  Person_001  74.967142  28.769439\n",
       "1       2  Person_002  68.617357  43.690320\n",
       "2       3  Person_003  76.476885  44.859282\n",
       "3       4  Person_004  85.230299  37.965841\n",
       "4       5  Person_005  67.658466  47.580714\n",
       "..    ...         ...        ...        ...\n",
       "95     96  Person_096  55.364851  55.779761\n",
       "96     97  Person_097  72.961203  36.742138\n",
       "97     98  Person_098  72.610553  52.305877\n",
       "98     99  Person_099  70.051135  50.873131\n",
       "99    100  Person_100  67.654129  32.855446\n",
       "\n",
       "[100 rows x 4 columns]"
      ]
     },
     "execution_count": 2,
     "metadata": {},
     "output_type": "execute_result"
    }
   ],
   "source": [
    "df"
   ]
  },
  {
   "cell_type": "code",
   "execution_count": 10,
   "id": "07e55b14",
   "metadata": {},
   "outputs": [],
   "source": [
    "# mac 한글 폰트\n",
    "import matplotlib.pyplot as plt\n",
    "import matplotlib as mpl\n",
    "\n",
    "# macOS에서 한글 깨짐 방지\n",
    "mpl.rcParams['font.family'] = 'AppleGothic'\n",
    "mpl.rcParams['axes.unicode_minus'] = False  # 음수 부호 깨짐 방지"
   ]
  },
  {
   "cell_type": "code",
   "execution_count": null,
   "id": "d52a155b",
   "metadata": {},
   "outputs": [],
   "source": [
    "# window 한글 폰트\n",
    "import matplotlib.pyplot as plt\n",
    "import matplotlib as mpl\n",
    "\n",
    "# Windows에서 한글 깨짐 방지\n",
    "mpl.rcParams['font.family'] = 'Malgun Gothic'\n",
    "mpl.rcParams['axes.unicode_minus'] = False"
   ]
  },
  {
   "cell_type": "code",
   "execution_count": 11,
   "id": "951168aa",
   "metadata": {},
   "outputs": [
    {
     "name": "stdout",
     "output_type": "stream",
     "text": [
      "    count       mean        std        min        25%        50%        75%  \\\n",
      "x1  100.0  68.961535   9.081684  43.802549  63.990943  68.730437  74.059521   \n",
      "x2  100.0  50.334569  14.305034  21.218432  37.915092  51.261608  58.072557   \n",
      "\n",
      "          max  \n",
      "x1  88.522782  \n",
      "x2  90.802537  \n"
     ]
    },
    {
     "data": {
      "image/png": "[encoded data removed]",
      "text/plain": [
       "<Figure size 1200x600 with 2 Axes>"
      ]
     },
     "metadata": {},
     "output_type": "display_data"
    }
   ],
   "source": [
    "import matplotlib.pyplot as plt\n",
    "\n",
    "subplots = df[['x1', 'x2']].describe().T\n",
    "print(subplots)\n",
    "\n",
    "# 서브플롯으로 동시 시각화\n",
    "fig, axes = plt.subplots(nrows=1, ncols=2, figsize=(12, 6))\n",
    "# x1 히스토그램\n",
    "axes[0].hist(df[\"x1\"], bins=20, color='skyblue', edgecolor='black')\n",
    "axes[0].set_title(\"x1 점수 분포\")\n",
    "axes[0].set_xlabel(\"x1 점수\")\n",
    "axes[0].set_ylabel(\"빈도수\")\n",
    "\n",
    "# x2 히스토그램\n",
    "axes[1].hist(df[\"x2\"], bins=20, color='salmon', edgecolor='black')\n",
    "axes[1].set_title(\"x2 점수 분포\")\n",
    "axes[1].set_xlabel(\"x2 점수\")\n",
    "axes[1].set_ylabel(\"빈도수\")\n",
    "plt.tight_layout()\n",
    "plt.show()"
   ]
  },
  {
   "cell_type": "code",
   "execution_count": 27,
   "id": "36304a36",
   "metadata": {},
   "outputs": [
    {
     "data": {
      "image/png": "[encoded data removed]",
      "text/plain": [
       "<Figure size 1200x400 with 2 Axes>"
      ]
     },
     "metadata": {},
     "output_type": "display_data"
    }
   ],
   "source": [
    "# 모집단 데이터로 baseline 생성\n",
    "data = df[['x1', 'x2']].to_numpy()\n",
    "\n",
    "def compute_population_stats(X):\n",
    "    from sklearn.neighbors import KernelDensity\n",
    "    import matplotlib.pyplot as plt\n",
    "\n",
    "    fig, axs = plt.subplots(1, X.shape[1], figsize=(12, 4))\n",
    "\n",
    "    for dim in range(X.shape[1]):\n",
    "        x = X[:, dim][:, np.newaxis]\n",
    "        mean = x.mean()\n",
    "        std = x.std()\n",
    "\n",
    "        kde = KernelDensity(kernel='gaussian', bandwidth=2.0).fit(x) # 각 데이터 포인트에 정규분포를 씌워서 분포 추정, 커널의 폭 -> 해당 값이 추후 최적화에 활용됨\n",
    "        xplot = np.linspace(x.min(), x.max(), 100)[:, np.newaxis] # newaxis : 1차원을 강제로 2차원으로 변환\n",
    "        log_dens = kde.score_samples(xplot) # 각 x좌표에 대한 로그 확률 밀도값(log density) 계산\n",
    "        kde_vals = np.exp(log_dens) # 확률 밀도값으로 변환\n",
    "\n",
    "        axs[dim].plot(xplot[:, 0], kde_vals, label=f'KDE x{dim+1}')\n",
    "        axs[dim].set_title(f'KDE of x{dim+1} (mean={mean:.2f}, std={std:.2f})')\n",
    "        axs[dim].set_xlabel(f'x{dim+1}')\n",
    "        axs[dim].set_ylabel('Density')\n",
    "        axs[dim].legend()\n",
    "\n",
    "    plt.tight_layout()\n",
    "    plt.show()\n",
    "\n",
    "    return mean, std, kde\n",
    "mean, std, kde = compute_population_stats(data)"
   ]
  },
  {
   "cell_type": "code",
   "execution_count": 33,
   "id": "d7d8da6b",
   "metadata": {},
   "outputs": [
    {
     "data": {
      "text/plain": [
       "(100, 2)"
      ]
     },
     "execution_count": 33,
     "metadata": {},
     "output_type": "execute_result"
    }
   ],
   "source": [
    "df[['x1', 'x2']].shape"
   ]
  },
  {
   "cell_type": "code",
   "execution_count": null,
   "id": "6273bd55",
   "metadata": {},
   "outputs": [
    {
     "data": {
      "text/plain": [
       "(array([0, 2, 1, 1, 1, 2, 0, 2, 0, 0]),\n",
       " array([1, 1, 1, 1, 0, 0, 2, 0, 0, 0], dtype=int32))"
      ]
     },
     "execution_count": 35,
     "metadata": {},
     "output_type": "execute_result"
    }
   ],
   "source": [
    "from sklearn.cluster import KMeans\n",
    "\n",
    "def initialize_clusters(X, k, method='random', random_state=None): # random_state: 랜덤 시드 설정\n",
    "    \"\"\"\n",
    "    초기 군집 할당 함수.\n",
    "    - method='random' : 완전 무작위 군집 할당\n",
    "    - method='kmeans' : KMeans 초기 클러스터링 결과 사용\n",
    "    \"\"\"\n",
    "    n_samples = X.shape[0] # 데이터 샘플 수\n",
    "\n",
    "    if method == 'random':\n",
    "        rng = np.random.default_rng(seed=random_state) # 랜덤 넘버 생성기\n",
    "        labels = rng.integers(0, k, size=n_samples) # 0부터 k-1까지의 정수 중 무작위로 할당\n",
    "\n",
    "    elif method == 'kmeans':\n",
    "        kmeans = KMeans(n_clusters=k, n_init=10, random_state=random_state) # n_init: KMeans 알고리즘을 n_init 번 실행하여 최적의 클러스터링을 찾음\n",
    "        labels = kmeans.fit_predict(X)\n",
    "\n",
    "    else:\n",
    "        raise ValueError(\"method must be either 'random' or 'kmeans'\")\n",
    "\n",
    "    return labels\n",
    "\n",
    "# 테스트: 랜덤 방식\n",
    "labels_random = initialize_clusters(data, k=3, method='random', random_state=42)\n",
    "# 테스트: KMeans 방식\n",
    "labels_kmeans = initialize_clusters(data, k=3, method='kmeans', random_state=42)\n",
    "\n",
    "# 출력: 두 방식 비교 (처음 10개 라벨)\n",
    "labels_random[:10], labels_kmeans[:10]\n",
    "\n",
    "# ! 이렇게 하면 군집 내 크기가 서로 달라지게 됨."
   ]
  },
  {
   "cell_type": "code",
   "execution_count": null,
   "id": "39cc5e8f",
   "metadata": {},
   "outputs": [
    {
     "data": {
      "text/plain": [
       "array([3, 0, 3, 0, 1, 1, 2, 3, 3, 1])"
      ]
     },
     "execution_count": 43,
     "metadata": {},
     "output_type": "execute_result"
    }
   ],
   "source": [
    "# 우선 랜덤한 방식으로 진행\n",
    "# 군집 수 만큼 라벨 값을 만들고\n",
    "# 전체 데이터 수 / 군집 수 만큼의 각 라벨 값을 생성하고\n",
    "# 합친 후 셔플해서 반환하는 과정\n",
    "def initialize_clusters(X, k, random_state=None): # random_state: 랜덤 시드 설정\n",
    "    if random_state is not None:\n",
    "        np.random.seed(random_state)\n",
    "        \n",
    "    labels_list = [label for label in range(k)]\n",
    "    n_samples = X.shape[0]  # 데이터 샘플 수\n",
    "    labels = np.array(labels_list * (n_samples // k))  # 각 라벨\n",
    "    if n_samples % k != 0:  # 나머지가 있다면\n",
    "        labels = np.concatenate([labels, np.random.choice(labels_list, n_samples % k)])  # 나머지 라벨 추가\n",
    "    else:\n",
    "        pass\n",
    "    labels = np.random.permutation(labels)  # 셔플\n",
    "    return labels\n",
    "# 테스트: 랜덤 방식\n",
    "labels_random = initialize_clusters(data, k=4, random_state=42)\n",
    "# 출력: 라벨 확인\n",
    "labels_random[:10]  # 처음 10개 라벨 출력"
   ]
  },
  {
   "cell_type": "code",
   "execution_count": null,
   "id": "a1a16af4",
   "metadata": {},
   "outputs": [
    {
     "data": {
      "text/plain": [
       "array([3, 0, 3, 0, 1, 1, 2, 3, 3, 1, 2, 0, 0, 3, 2, 3, 1, 1, 2, 2, 0, 3,\n",
       "       2, 3, 3, 2, 0, 0, 0, 2, 2, 1, 3, 1, 3, 2, 1, 1, 1, 2, 2, 3, 2, 1,\n",
       "       3, 3, 1, 1, 1, 2, 1, 0, 0, 3, 3, 2, 1, 0, 0, 0, 1, 3, 2, 1, 0, 0,\n",
       "       3, 0, 1, 2, 0, 3, 3, 1, 2, 2, 0, 1, 1, 1, 1, 2, 2, 0, 0, 2, 0, 0,\n",
       "       3, 0, 3, 0, 3, 2, 3, 2, 1, 3, 2, 0])"
      ]
     },
     "execution_count": 44,
     "metadata": {},
     "output_type": "execute_result"
    }
   ],
   "source": [
    "labels_random"
   ]
  },
  {
   "cell_type": "code",
   "execution_count": null,
   "id": "05e72dcd",
   "metadata": {},
   "outputs": [],
   "source": [
    "# 손실함수 구현\n",
    "from sklearn.neighbors import KernelDensity\n",
    "\n",
    "def compute_loss(X, labels, k, pop_mean, pop_std, pop_kde):\n",
    "    \"\"\"\n",
    "    주어진 군집 라벨에 따라 손실 값을 계산합니다.\n",
    "    - 각 군집의 평균, 표준편차, KDE 분포를 모집단 기준과 비교하여 손실을 합산합니다.\n",
    "    \n",
    "    Returns:\n",
    "        total_loss: 전체 손실 (L_mean + L_std + L_kde)\n",
    "        cluster_means: 각 군집 평균 리스트\n",
    "        cluster_stds: 각 군집 표준편차 리스트\n",
    "        cluster_kdes: 각 군집 KDE 리스트 (x축 고정)\n",
    "    \"\"\"\n",
    "    L_mean, L_std, L_kde = 0.0, 0.0, 0.0\n",
    "    cluster_means, cluster_stds, cluster_kdes = [], [], []\n",
    "\n",
    "    xplot = np.linspace(X.min(), X.max(), 100)[:, np.newaxis]\n",
    "    for cluster_id in range(k):\n",
    "        cluster_data = X[labels == cluster_id] # 불리언 인덱싱을 사용하여 해당 군집의 데이터 추출\n",
    "        if len(cluster_data) == 0:\n",
    "            continue  # 비어있는 군집은 건너뜀\n",
    "\n",
    "        # 평균 및 표준편차 손실\n",
    "        cluster_mean = cluster_data.mean()\n",
    "        cluster_std = cluster_data.std()\n",
    "        cluster_means.append(cluster_mean)\n",
    "        cluster_stds.append(cluster_std)\n",
    "        L_mean += (cluster_mean - pop_mean) ** 2\n",
    "        L_std += (cluster_std - pop_std) ** 2\n",
    "\n",
    "        # KDE 분포 차이 손실\n",
    "        kde = KernelDensity(kernel='gaussian', bandwidth=1.0).fit(cluster_data)\n",
    "        log_dens = kde.score_samples(xplot)\n",
    "        cluster_density = np.exp(log_dens)\n",
    "        kde_diff = cluster_density - pop_kde\n",
    "        L_kde += np.mean(kde_diff ** 2)\n",
    "        cluster_kdes.append(cluster_density)\n",
    "\n",
    "    total_loss = L_mean + L_std + L_kde\n",
    "    return total_loss, cluster_means, cluster_stds, cluster_kdes\n",
    "# ! kde 분포 차이를 구하는 손실 함수에서 평균값의 차이로 구하는 것에 의문점이 존재하며, 밀도 값으면 계산되는건지? 정확히 어떠한 평균인지에 대해서 확인이 필요함"
   ]
  },
  {
   "cell_type": "code",
   "execution_count": 46,
   "id": "c8626d9b",
   "metadata": {},
   "outputs": [
    {
     "ename": "TypeError",
     "evalue": "list indices must be integers or slices, not list",
     "output_type": "error",
     "traceback": [
      "\u001b[0;31m---------------------------------------------------------------------------\u001b[0m",
      "\u001b[0;31mTypeError\u001b[0m                                 Traceback (most recent call last)",
      "Cell \u001b[0;32mIn[46], line 3\u001b[0m\n\u001b[1;32m      1\u001b[0m test_list \u001b[38;5;241m=\u001b[39m [\u001b[38;5;124m'\u001b[39m\u001b[38;5;124ma\u001b[39m\u001b[38;5;124m'\u001b[39m,\u001b[38;5;124m'\u001b[39m\u001b[38;5;124mb\u001b[39m\u001b[38;5;124m'\u001b[39m,\u001b[38;5;124m'\u001b[39m\u001b[38;5;124mc\u001b[39m\u001b[38;5;124m'\u001b[39m,\u001b[38;5;124m'\u001b[39m\u001b[38;5;124md\u001b[39m\u001b[38;5;124m'\u001b[39m,\u001b[38;5;124m'\u001b[39m\u001b[38;5;124me\u001b[39m\u001b[38;5;124m'\u001b[39m,\u001b[38;5;124m'\u001b[39m\u001b[38;5;124mf\u001b[39m\u001b[38;5;124m'\u001b[39m,\u001b[38;5;124m'\u001b[39m\u001b[38;5;124mg\u001b[39m\u001b[38;5;124m'\u001b[39m,\u001b[38;5;124m'\u001b[39m\u001b[38;5;124mh\u001b[39m\u001b[38;5;124m'\u001b[39m,\u001b[38;5;124m'\u001b[39m\u001b[38;5;124mi\u001b[39m\u001b[38;5;124m'\u001b[39m,\u001b[38;5;124m'\u001b[39m\u001b[38;5;124mj\u001b[39m\u001b[38;5;124m'\u001b[39m]\n\u001b[1;32m      2\u001b[0m boolean_list \u001b[38;5;241m=\u001b[39m [\u001b[38;5;28;01mTrue\u001b[39;00m, \u001b[38;5;28;01mFalse\u001b[39;00m, \u001b[38;5;28;01mTrue\u001b[39;00m, \u001b[38;5;28;01mFalse\u001b[39;00m, \u001b[38;5;28;01mTrue\u001b[39;00m, \u001b[38;5;28;01mFalse\u001b[39;00m, \u001b[38;5;28;01mTrue\u001b[39;00m, \u001b[38;5;28;01mFalse\u001b[39;00m, \u001b[38;5;28;01mTrue\u001b[39;00m, \u001b[38;5;28;01mFalse\u001b[39;00m]\n\u001b[0;32m----> 3\u001b[0m test_list[boolean_list]\n",
      "\u001b[0;31mTypeError\u001b[0m: list indices must be integers or slices, not list"
     ]
    }
   ],
   "source": [
    "test_list = ['a','b','c','d','e','f','g','h','i','j']\n",
    "boolean_list = [True, False, True, False, True, False, True, False, True, False]\n",
    "test_list[boolean_list]  # 불리언 인덱싱을 사용하여 True인 인덱스의 값만 추출\n",
    "# ! 리스트에는 불리언 인덱싱이 적용되지 않음"
   ]
  },
  {
   "cell_type": "code",
   "execution_count": null,
   "id": "6aca7deb",
   "metadata": {},
   "outputs": [
    {
     "data": {
      "text/plain": [
       "array(['a', 'c', 'e', 'g', 'i'], dtype='<U1')"
      ]
     },
     "execution_count": 47,
     "metadata": {},
     "output_type": "execute_result"
    }
   ],
   "source": [
    "import numpy as np\n",
    "test_array = np.array(['a','b','c','d','e','f','g','h','i','j'])\n",
    "boolean_mask = np.array([True, False, True, False, True, False, True, False, True, False])\n",
    "\n",
    "test_array[boolean_mask]\n",
    "# ! 넘파이 배열에는 불리언 인덱싱이 적용됨"
   ]
  },
  {
   "cell_type": "code",
   "execution_count": null,
   "id": "93f4cdb6",
   "metadata": {},
   "outputs": [],
   "source": [
    "# 최적화 함수\n",
    "def optimize_clusters(X, k, pop_mean, pop_std, pop_kde, max_iter=50, balance_tol=5, random_state=None):\n",
    "    n_samples = X.shape[0]\n",
    "    labels = initialize_clusters(X, k, random_state=random_state)\n",
    "    loss_history = []\n",
    "\n",
    "    for iteration in range(max_iter):\n",
    "        changed = False\n",
    "        current_loss, _, _, _ = compute_loss(X, labels, k, pop_mean, pop_std, pop_kde)\n",
    "        loss_history.append(current_loss)\n",
    "\n",
    "        for idx in range(n_samples):\n",
    "            original_cluster = labels[idx]\n",
    "            best_cluster = original_cluster\n",
    "            best_loss = current_loss\n",
    "\n",
    "            for new_cluster in range(k):\n",
    "                if new_cluster == original_cluster:\n",
    "                    continue\n",
    "\n",
    "                label_counts = np.bincount(labels, minlength=k)\n",
    "                if label_counts[new_cluster] + 1 > label_counts.mean() + balance_tol:\n",
    "                    continue\n",
    "                if label_counts[original_cluster] - 1 < label_counts.mean() - balance_tol:\n",
    "                    continue\n",
    "\n",
    "                temp_labels = labels.copy()\n",
    "                temp_labels[idx] = new_cluster\n",
    "                temp_loss, _, _, _ = compute_loss(X, temp_labels, k, pop_mean, pop_std, pop_kde)\n",
    "\n",
    "                if temp_loss < best_loss:\n",
    "                    best_loss = temp_loss\n",
    "                    best_cluster = new_cluster\n",
    "\n",
    "            if best_cluster != original_cluster:\n",
    "                labels[idx] = best_cluster\n",
    "                changed = True\n",
    "\n",
    "        if not changed:\n",
    "            print(f\"Converged at iteration {iteration+1}\")\n",
    "            break\n",
    "\n",
    "    return labels, loss_history"
   ]
  }
 ],
 "metadata": {
  "kernelspec": {
   "display_name": "base",
   "language": "python",
   "name": "python3"
  },
  "language_info": {
   "codemirror_mode": {
    "name": "ipython",
    "version": 3
   },
   "file_extension": ".py",
   "mimetype": "text/x-python",
   "name": "python",
   "nbconvert_exporter": "python",
   "pygments_lexer": "ipython3",
   "version": "3.12.7"
  }
 },
 "nbformat": 4,
 "nbformat_minor": 5
}
