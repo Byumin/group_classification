{
 "cells": [
  {
   "cell_type": "code",
   "execution_count": 33,
   "id": "257631f1",
   "metadata": {},
   "outputs": [
    {
     "name": "stdout",
     "output_type": "stream",
     "text": [
      "[defaultdict(<function <listcomp>.<lambda> at 0x0000026C70963BA0>, {}), defaultdict(<function <listcomp>.<lambda> at 0x0000026C70962660>, {})]\n"
     ]
    }
   ],
   "source": [
    "# 이산형 변수에 대해서 그룹별 통계 초기화\n",
    "from collections import defaultdict\n",
    "\n",
    "group_count = 2\n",
    "group_stats = [defaultdict(lambda: defaultdict(int)) for _ in range(group_count)] # 각 그룹의 통계 저장용\n",
    "print(group_stats)"
   ]
  },
  {
   "cell_type": "code",
   "execution_count": 1,
   "id": "a9be3ba1",
   "metadata": {},
   "outputs": [
    {
     "name": "stdout",
     "output_type": "stream",
     "text": [
      "    학년  임시반  임시번호  성별_명렬표 이름_명렬표    특이사항 선택과목    merge_key    학교명  학년반번호  ...  \\\n",
      "0    1    1     4       2   김민준4   결석 잦음   경제   101041김민준4  천보중학교  10104  ...   \n",
      "1    1    3    17       2  이서연17   결석 잦음   경제  103171이서연17  천보중학교  10317  ...   \n",
      "2    2    1    10       1  김민준10    특수지원   경제  201101김민준10  천보중학교  20110  ...   \n",
      "3    2    1    11       1  이서연11     NaN   경제  201111이서연11  천보중학교  20111  ...   \n",
      "4    2    5     8       1   김민준8     전학생   경제   205081김민준8  천보중학교  20508  ...   \n",
      "5    1    1     5       1   이서연5  건강검진대상   윤리   101051이서연5  천보중학교  10105  ...   \n",
      "6    1    5    12       2  김민준12     NaN   윤리  105121김민준12  천보중학교  10512  ...   \n",
      "7    3    1    13       1  이서연13   결석 잦음   윤리  301131이서연13  천보중학교  30113  ...   \n",
      "8    3    1    16       1  김민준16     NaN   윤리  301161김민준16  천보중학교  30116  ...   \n",
      "9    3    5    20       1  김민준20   결석 잦음   윤리  305201김민준20  천보중학교  30520  ...   \n",
      "10   1    4     3       2   이서연3     전학생   경제   104032이서연3  천보중학교  10403  ...   \n",
      "11   2    2     1       1    이서연  건강검진대상   경제    202012이서연  천보중학교  20201  ...   \n",
      "12   2    2    14       2  김민준14     전학생   경제  202142김민준14  천보중학교  20214  ...   \n",
      "13   1    2    19       1  이서연19     NaN   윤리  102192이서연19  천보중학교  10219  ...   \n",
      "14   1    4     7       2    이서연  건강검진대상   윤리    104072이서연  천보중학교  10407  ...   \n",
      "15   2    2     6       2   김민준6  건강검진대상   윤리   202062김민준6  천보중학교  20206  ...   \n",
      "16   2    4    15       2  이서연15     전학생   윤리  204152이서연15  천보중학교  20415  ...   \n",
      "17   2    5     2       1   김민준2   결석 잦음   윤리   205022김민준2  천보중학교  20502  ...   \n",
      "18   3    3     9       2   이서연9     전학생   윤리   303092이서연9  천보중학교  30309  ...   \n",
      "19   3    5    18       2  김민준18   결석 잦음   윤리  305182김민준18  천보중학교  30518  ...   \n",
      "\n",
      "    추리력 수준 T점수 평균  지능지수  지능지수 P _merge  결시생  동명이인 동명이인_ID   합계  초기그룹  \n",
      "0       높음     77   117    41.7   both    0     0     NaN  130     0  \n",
      "1      보통상     67   109    80.4   both    0     0     NaN   83     0  \n",
      "2       높음     79    94    40.0   both    0     0     NaN  102     0  \n",
      "3       보통     64   122    31.4   both    0     0     NaN   97     0  \n",
      "4       높음     43    85    32.1   both    0     0     NaN  115     0  \n",
      "5     매우높음     48    87    35.1   both    0     0     NaN  154     0  \n",
      "6      보통상     54    87    65.5   both    0     0     NaN  122     0  \n",
      "7     매우높음     65   103    37.9   both    0     0     NaN  124     0  \n",
      "8     매우높음     59    92    48.3   both    0     0     NaN  118     0  \n",
      "9       낮음     67   127    68.6   both    0     0     NaN   91     0  \n",
      "10     보통상     79   107    24.7   both    0     0     NaN  152     1  \n",
      "11      낮음     65    92    21.3   both    0     1     6.0  120     1  \n",
      "12      보통     55   104    87.7   both    0     0     NaN  117     1  \n",
      "13    매우높음     75   122    41.6   both    0     0     NaN  120     1  \n",
      "14      낮음     65   120    45.7   both    0     1     6.0  122     1  \n",
      "15      낮음     44    85    79.0   both    0     0     NaN  102     1  \n",
      "16     보통상     66   101    33.8   both    0     0     NaN  119     1  \n",
      "17     보통상     44   108    24.6   both    0     0     NaN  109     1  \n",
      "18     보통상     58   119    87.6   both    0     0     NaN  126     1  \n",
      "19      높음     53   111    87.3   both    0     0     NaN  148     1  \n",
      "\n",
      "[20 rows x 36 columns]\n"
     ]
    }
   ],
   "source": [
    "import pandas as pd\n",
    "\n",
    "init_grouped_df = pd.read_excel('C:/Users/USER/group_classification/group_assign_df.xlsx')\n",
    "print(init_grouped_df)"
   ]
  },
  {
   "cell_type": "code",
   "execution_count": 35,
   "id": "448efff8",
   "metadata": {},
   "outputs": [
    {
     "name": "stdout",
     "output_type": "stream",
     "text": [
      "학년             int64\n",
      "임시반            int64\n",
      "임시번호           int64\n",
      "성별_명렬표         int64\n",
      "이름_명렬표        object\n",
      "특이사항          object\n",
      "선택과목          object\n",
      "merge_key     object\n",
      "학교명           object\n",
      "학년반번호          int64\n",
      "성별_검사결과        int64\n",
      "이름_검사결과       object\n",
      "어휘적용력 T        int64\n",
      "어휘적용력 P      float64\n",
      "어휘적용력 수준      object\n",
      "언어유추력 T        int64\n",
      "언어유추력 P      float64\n",
      "언어유추력 수준      object\n",
      "수리력 T          int64\n",
      "수리력 P        float64\n",
      "수리력 수준        object\n",
      "공간지각력 T        int64\n",
      "공간지각력 P      float64\n",
      "공간지각력 수준      object\n",
      "추리력 T          int64\n",
      "추리력 P        float64\n",
      "추리력 수준        object\n",
      "T점수 평균         int64\n",
      "지능지수           int64\n",
      "지능지수 P       float64\n",
      "_merge        object\n",
      "결시생            int64\n",
      "동명이인           int64\n",
      "동명이인_ID      float64\n",
      "합계             int64\n",
      "초기그룹           int64\n",
      "dtype: object\n"
     ]
    }
   ],
   "source": [
    "# 데이터 타입 확인\n",
    "print(init_grouped_df.dtypes)\n",
    "# '성별_명렬표' 열의 데이터 타입을 문자열로 변환\n",
    "#init_grouped_df['성별_명렬표'] = init_grouped_df['성별_명렬표'].astype(str)\n",
    "# 초기그룹 열의 데이터 타입을 문자열로 변환\n",
    "#init_grouped_df['초기그룹'] = init_grouped_df['초기그룹'].astype(str)"
   ]
  },
  {
   "cell_type": "code",
   "execution_count": 36,
   "id": "64f5f993",
   "metadata": {},
   "outputs": [
    {
     "name": "stdout",
     "output_type": "stream",
     "text": [
      "0\n",
      "0\n",
      "0\n",
      "0\n",
      "0\n",
      "0\n",
      "0\n",
      "0\n",
      "0\n",
      "0\n",
      "1\n",
      "1\n",
      "1\n",
      "1\n",
      "1\n",
      "1\n",
      "1\n",
      "1\n",
      "1\n",
      "1\n"
     ]
    }
   ],
   "source": [
    "for _, row in init_grouped_df.iterrows():\n",
    "    group = row['초기그룹']\n",
    "    print(group)\n",
    "    for col in ['성별_명렬표']:\n",
    "        val = row[col]\n",
    "        group_stats[group][col][val] += 1"
   ]
  },
  {
   "cell_type": "code",
   "execution_count": 37,
   "id": "43ef1b6b",
   "metadata": {},
   "outputs": [
    {
     "name": "stdout",
     "output_type": "stream",
     "text": [
      "[defaultdict(<function <listcomp>.<lambda> at 0x0000026C70963BA0>,\n",
      "             {'성별_명렬표': defaultdict(<class 'int'>, {2: 3, 1: 7})}),\n",
      " defaultdict(<function <listcomp>.<lambda> at 0x0000026C70962660>,\n",
      "             {'성별_명렬표': defaultdict(<class 'int'>, {2: 7, 1: 3})})]\n"
     ]
    }
   ],
   "source": [
    "from pprint import pprint\n",
    "\n",
    "# group_stats 출력\n",
    "pprint(group_stats)"
   ]
  },
  {
   "cell_type": "code",
   "execution_count": 38,
   "id": "e3e57545",
   "metadata": {},
   "outputs": [
    {
     "name": "stdout",
     "output_type": "stream",
     "text": [
      "3\n"
     ]
    }
   ],
   "source": [
    "# 특정 그룹(group)에서 '성별_명렬표'의 1 값을 가져오기\n",
    "value = group_stats[1]['성별_명렬표'][1]  # 정수형 키로 접근\n",
    "print(value)"
   ]
  },
  {
   "cell_type": "code",
   "execution_count": 40,
   "id": "5715df33",
   "metadata": {},
   "outputs": [],
   "source": [
    "ideal_group_stats = defaultdict(lambda: defaultdict(float)) # 각 범주형 변수의 이상적인 그룹 통계 저장용\n",
    "for _, row in init_grouped_df.iterrows():\n",
    "    for col in ['성별_명렬표']:\n",
    "        val = row[col]\n",
    "        ideal_group_stats[col][val] += 1 # 전체 빈도 계산"
   ]
  },
  {
   "cell_type": "code",
   "execution_count": 41,
   "id": "72b027fb",
   "metadata": {},
   "outputs": [
    {
     "name": "stdout",
     "output_type": "stream",
     "text": [
      "defaultdict(<function <lambda> at 0x0000026C709636A0>,\n",
      "            {'성별_명렬표': defaultdict(<class 'float'>, {2: 10.0, 1: 10.0})})\n"
     ]
    }
   ],
   "source": [
    "from pprint import pprint\n",
    "\n",
    "# group_stats 출력\n",
    "pprint(ideal_group_stats)"
   ]
  },
  {
   "cell_type": "raw",
   "id": "0027c23e",
   "metadata": {
    "vscode": {
     "languageId": "raw"
    }
   },
   "source": []
  },
  {
   "cell_type": "code",
   "execution_count": 3,
   "id": "30fb559b",
   "metadata": {},
   "outputs": [
    {
     "name": "stdout",
     "output_type": "stream",
     "text": [
      "     학년  임시반  임시번호  성별_명렬표 이름_명렬표  \\\n",
      "0     1    1     1       2    강성미   \n",
      "1     1    1     2       2    김민주   \n",
      "2     1    1     3       2    김민지   \n",
      "3     1    1     4       2    김혜원   \n",
      "4     1    1     5       2    노지원   \n",
      "..   ..  ...   ...     ...    ...   \n",
      "281   1   10    26       1    정기혁   \n",
      "282   1   10    27       1    조승빈   \n",
      "283   1   10    28       1    차승인   \n",
      "284   1   10    29       1    편중운   \n",
      "285   1   10    30       1    하승민   \n",
      "\n",
      "                                                특이사항  merge_key    학교명  학년반번호  \\\n",
      "0    특수(1학년6반 또는 1학년 7반 배정)\\n10820 유진석(특수)과 다른반으로 배정  101012강성미  천보중학교  10101   \n",
      "1                                                NaN  101022김민주  천보중학교  10102   \n",
      "2                                                NaN  101032김민지  천보중학교  10103   \n",
      "3                                                NaN  101042김혜원  천보중학교  10104   \n",
      "4                                                NaN  101052노지원  천보중학교  10105   \n",
      "..                                               ...        ...    ...    ...   \n",
      "281                                              NaN  110261정기혁  천보중학교  11026   \n",
      "282                                              NaN  110271조승빈  천보중학교  11027   \n",
      "283                                              NaN  110281차승인  천보중학교  11028   \n",
      "284                                              NaN  110291편중운  천보중학교  11029   \n",
      "285                                              NaN  110301하승민  천보중학교  11030   \n",
      "\n",
      "     성별_검사결과  ... T점수 평균  지능지수  지능지수 P  _merge  결시생 동명이인  동명이인_ID   합계 초기그룹  \\\n",
      "0          2  ...     48    97    42.5    both    0    0      NaN  116    1   \n",
      "1          2  ...     55   107    67.0    both    0    0      NaN   95    0   \n",
      "2          2  ...     48    97    42.5    both    0    1      2.0  118    0   \n",
      "3          2  ...     52   103    57.5    both    0    1      3.0  118    7   \n",
      "4          2  ...     69   128    96.0    both    0    0      NaN  140    3   \n",
      "..       ...  ...    ...   ...     ...     ...  ...  ...      ...  ...  ...   \n",
      "281        1  ...     57   111    75.5    both    0    0      NaN   99    4   \n",
      "282        1  ...     69   128    96.0    both    0    0      NaN  113    6   \n",
      "283        1  ...     59   113    79.1    both    0    0      NaN  120    6   \n",
      "284        1  ...     29    80    10.6    both    0    0      NaN   76    0   \n",
      "285        1  ...     75   138    99.1    both    0    0      NaN  135    4   \n",
      "\n",
      "     상담 필요  \n",
      "0        1  \n",
      "1        1  \n",
      "2        0  \n",
      "3        0  \n",
      "4        0  \n",
      "..     ...  \n",
      "281      1  \n",
      "282      0  \n",
      "283      0  \n",
      "284      0  \n",
      "285      1  \n",
      "\n",
      "[286 rows x 41 columns]\n"
     ]
    },
    {
     "data": {
      "text/plain": [
       "array([0, 1, 2, 3, 4, 5, 6, 7, 8, 9])"
      ]
     },
     "execution_count": 3,
     "metadata": {},
     "output_type": "execute_result"
    }
   ],
   "source": [
    "import pandas as pd\n",
    "\n",
    "#init_grouped_df = pd.read_excel('C:/Users/USER/group_classification/group_assign_df.xlsx')\n",
    "init_grouped_df = pd.read_excel('/Users/mac/insight_/group_classification/group_assign_df.xlsx')\n",
    "print(init_grouped_df)\n",
    "\n",
    "import numpy as np\n",
    "np.unique(init_grouped_df['초기그룹'])"
   ]
  },
  {
   "cell_type": "code",
   "execution_count": 4,
   "id": "3f6f5468",
   "metadata": {},
   "outputs": [
    {
     "name": "stdout",
     "output_type": "stream",
     "text": [
      "28.6\n"
     ]
    }
   ],
   "source": [
    "# 그룹 별 이상적인 n 수\n",
    "ideal_group_n = init_grouped_df.shape[0] / len(np.unique(init_grouped_df['초기그룹']))\n",
    "print(ideal_group_n)"
   ]
  },
  {
   "cell_type": "code",
   "execution_count": 5,
   "id": "fd2bd0c9",
   "metadata": {},
   "outputs": [
    {
     "name": "stdout",
     "output_type": "stream",
     "text": [
      "{'population': {'성별_명렬표': {2: 14.3, 1: 14.3}, '상담 필요': {0: 18.8, 1: 9.8}}}\n",
      "{1: {'성별_명렬표': {2: 18, 1: 10}, '상담 필요': {0: 22, 1: 6}}, 0: {'성별_명렬표': {1: 23, 2: 14}, '상담 필요': {0: 25, 1: 12}}, 7: {'성별_명렬표': {2: 20, 1: 7}, '상담 필요': {0: 19, 1: 8}}, 3: {'성별_명렬표': {1: 19, 2: 9}, '상담 필요': {0: 23, 1: 5}}, 6: {'성별_명렬표': {1: 17, 2: 11}, '상담 필요': {0: 16, 1: 12}}, 4: {'성별_명렬표': {2: 15, 1: 13}, '상담 필요': {1: 15, 0: 13}}, 8: {'성별_명렬표': {2: 14, 1: 13}, '상담 필요': {0: 14, 1: 13}}, 5: {'성별_명렬표': {1: 17, 2: 11}, '상담 필요': {0: 21, 1: 7}}, 9: {'성별_명렬표': {2: 16, 1: 11}, '상담 필요': {0: 14, 1: 13}}, 2: {'성별_명렬표': {2: 15, 1: 13}, '상담 필요': {0: 21, 1: 7}}}\n"
     ]
    }
   ],
   "source": [
    "# 사용자가 선택한 이산형 변수 리스트로 저장됨.\n",
    "# 이상적인 이산형 변수 빈도 계산\n",
    "selected_discrete_variable = ['성별_명렬표', '상담 필요']\n",
    "groups = init_grouped_df['초기그룹'].unique()\n",
    "group_n = len(groups)\n",
    "ideal_freq = {}\n",
    "ideal_freq['population'] = {}\n",
    "for var in selected_discrete_variable:\n",
    "    total_counts = init_grouped_df[var].value_counts()\n",
    "    ideal_freq['population'][var] = (total_counts / group_n).to_dict()\n",
    "print(ideal_freq)\n",
    "\n",
    "\n",
    "\n",
    "\n",
    "# 초기 그룹 별 이산형 변수 분포 계산\n",
    "groups = init_grouped_df['초기그룹'].unique()\n",
    "\n",
    "group_freq = {}\n",
    "for g in groups:\n",
    "    subset = init_grouped_df[init_grouped_df['초기그룹'] == g]\n",
    "    group_freq[g] = {}\n",
    "    for var in selected_discrete_variable:\n",
    "        group_freq[g][var] = subset[var].value_counts().to_dict()\n",
    "print(group_freq)"
   ]
  },
  {
   "cell_type": "code",
   "execution_count": 6,
   "id": "2fa69f14",
   "metadata": {},
   "outputs": [
    {
     "name": "stdout",
     "output_type": "stream",
     "text": [
      "{1: 15.0, 0: 17.4, 7: 15.0, 3: 19.0, 6: 11.0, 4: 13.0, 8: 9.600000000000001, 5: 11.0, 9: 13.0, 2: 7.0}\n",
      "{1: {'성별_명렬표_diff': {2: -3.6999999999999993, 1: 4.300000000000001}, '성별_명렬표_sign': {2: -1.0, 1: 1.0}, '상담 필요_diff': {0: -3.1999999999999993, 1: 3.8000000000000007}, '상담 필요_sign': {0: -1.0, 1: 1.0}}, 0: {'성별_명렬표_diff': {2: 0.3000000000000007, 1: -8.7}, '성별_명렬표_sign': {2: 1.0, 1: -1.0}, '상담 필요_diff': {0: -6.199999999999999, 1: -2.1999999999999993}, '상담 필요_sign': {0: -1.0, 1: -1.0}}, 7: {'성별_명렬표_diff': {2: -5.699999999999999, 1: 7.300000000000001}, '성별_명렬표_sign': {2: -1.0, 1: 1.0}, '상담 필요_diff': {0: -0.1999999999999993, 1: 1.8000000000000007}, '상담 필요_sign': {0: -1.0, 1: 1.0}}, 3: {'성별_명렬표_diff': {2: 5.300000000000001, 1: -4.699999999999999}, '성별_명렬표_sign': {2: 1.0, 1: -1.0}, '상담 필요_diff': {0: -4.199999999999999, 1: 4.800000000000001}, '상담 필요_sign': {0: -1.0, 1: 1.0}}, 6: {'성별_명렬표_diff': {2: 3.3000000000000007, 1: -2.6999999999999993}, '성별_명렬표_sign': {2: 1.0, 1: -1.0}, '상담 필요_diff': {0: 2.8000000000000007, 1: -2.1999999999999993}, '상담 필요_sign': {0: 1.0, 1: -1.0}}, 4: {'성별_명렬표_diff': {2: -0.6999999999999993, 1: 1.3000000000000007}, '성별_명렬표_sign': {2: -1.0, 1: 1.0}, '상담 필요_diff': {0: 5.800000000000001, 1: -5.199999999999999}, '상담 필요_sign': {0: 1.0, 1: -1.0}}, 8: {'성별_명렬표_diff': {2: 0.3000000000000007, 1: 1.3000000000000007}, '성별_명렬표_sign': {2: 1.0, 1: 1.0}, '상담 필요_diff': {0: 4.800000000000001, 1: -3.1999999999999993}, '상담 필요_sign': {0: 1.0, 1: -1.0}}, 5: {'성별_명렬표_diff': {2: 3.3000000000000007, 1: -2.6999999999999993}, '성별_명렬표_sign': {2: 1.0, 1: -1.0}, '상담 필요_diff': {0: -2.1999999999999993, 1: 2.8000000000000007}, '상담 필요_sign': {0: -1.0, 1: 1.0}}, 9: {'성별_명렬표_diff': {2: -1.6999999999999993, 1: 3.3000000000000007}, '성별_명렬표_sign': {2: -1.0, 1: 1.0}, '상담 필요_diff': {0: 4.800000000000001, 1: -3.1999999999999993}, '상담 필요_sign': {0: 1.0, 1: -1.0}}, 2: {'성별_명렬표_diff': {2: -0.6999999999999993, 1: 1.3000000000000007}, '성별_명렬표_sign': {2: -1.0, 1: 1.0}, '상담 필요_diff': {0: -2.1999999999999993, 1: 2.8000000000000007}, '상담 필요_sign': {0: -1.0, 1: 1.0}}}\n"
     ]
    }
   ],
   "source": [
    "# total_cost와 각 변수 차이(diff), 부호(sign) 딕셔너리는 따로 만들기로\n",
    "# total_cost는 제일 많이 차이는 그룹을 찾기 위함\n",
    "group_total_cost = {}\n",
    "for g in groups:\n",
    "    group_total_cost[g] = 0\n",
    "    for var in selected_discrete_variable:\n",
    "        for key, value in ideal_freq['population'][var].items():\n",
    "            ideal_count = value\n",
    "            actual_count = group_freq[g][var].get(key, 0)\n",
    "            diff = ideal_count - actual_count\n",
    "            group_total_cost[g] += abs(diff)\n",
    "print(group_total_cost)\n",
    "\n",
    "# 차이(diff), 부호(sign) 딕셔너리는 swap 대상 레코드 선택에 사용\n",
    "group_diff_cost = {}\n",
    "for g in groups:\n",
    "    group_diff_cost[g] = {}\n",
    "    for var in selected_discrete_variable:\n",
    "        group_diff_cost[g][f'{var}_diff'] = {}\n",
    "        group_diff_cost[g][f'{var}_sign'] = {}\n",
    "        for key, value in ideal_freq['population'][var].items():\n",
    "            ideal_count = value\n",
    "            actual_count = group_freq[g][var].get(key, 0)\n",
    "            diff = ideal_count - actual_count\n",
    "            group_diff_cost[g][f'{var}_diff'][key] = diff\n",
    "            group_diff_cost[g][f'{var}_sign'][key] = np.sign(diff)\n",
    "print(group_diff_cost)"
   ]
  },
  {
   "cell_type": "code",
   "execution_count": 7,
   "id": "d5b2bb37",
   "metadata": {},
   "outputs": [
    {
     "name": "stdout",
     "output_type": "stream",
     "text": [
      "최고 편차 그룹: 3\n"
     ]
    }
   ],
   "source": [
    "# 최고 편차 그룹 차기\n",
    "max_group = max(group_total_cost, key=group_total_cost.get)\n",
    "print(\"최고 편차 그룹:\", max_group)"
   ]
  },
  {
   "cell_type": "code",
   "execution_count": 8,
   "id": "2ddec383",
   "metadata": {},
   "outputs": [
    {
     "name": "stdout",
     "output_type": "stream",
     "text": [
      "성별_명렬표 차이: {2: 5.300000000000001, 1: -4.699999999999999}\n",
      "상담 필요 차이: {0: -4.199999999999999, 1: 4.800000000000001}\n"
     ]
    }
   ],
   "source": [
    "for var in selected_discrete_variable:\n",
    "    print(f\"{var} 차이:\", group_diff_cost[max_group][f'{var}_diff'])"
   ]
  },
  {
   "cell_type": "code",
   "execution_count": 9,
   "id": "5ab578d3",
   "metadata": {},
   "outputs": [
    {
     "name": "stdout",
     "output_type": "stream",
     "text": [
      "성별_명렬표 부호: {2: 1.0, 1: -1.0}\n",
      "상담 필요 부호: {0: -1.0, 1: 1.0}\n"
     ]
    }
   ],
   "source": [
    "for var in selected_discrete_variable:\n",
    "    print(f\"{var} 부호:\", group_diff_cost[max_group][f'{var}_sign'])"
   ]
  },
  {
   "cell_type": "code",
   "execution_count": 10,
   "id": "63bf0b9b",
   "metadata": {},
   "outputs": [
    {
     "name": "stdout",
     "output_type": "stream",
     "text": [
      "{'성별_명렬표': {2: -1.0, 1: 1.0}, '상담 필요': {0: 1.0, 1: -1.0}}\n"
     ]
    }
   ],
   "source": [
    "# 역전 방향\n",
    "reversed_target = {}\n",
    "for var in selected_discrete_variable:\n",
    "    reversed_target[var] = {}\n",
    "    for key, value in group_diff_cost[max_group][f'{var}_sign'].items():\n",
    "        reversed_target[var][key] = -value\n",
    "print(reversed_target)"
   ]
  },
  {
   "cell_type": "code",
   "execution_count": 11,
   "id": "0237a231",
   "metadata": {},
   "outputs": [
    {
     "name": "stdout",
     "output_type": "stream",
     "text": [
      "매칭 그룹: {9, 4}\n"
     ]
    }
   ],
   "source": [
    "# 역전 방향과 맞는 그룹 찾기\n",
    "match_group = []\n",
    "for g in groups:\n",
    "    all_match = True\n",
    "    for var in selected_discrete_variable:\n",
    "        for key, value in reversed_target[var].items():\n",
    "            if group_diff_cost[g][f'{var}_sign'].get(key, 0) != value:\n",
    "                all_match = False\n",
    "                break\n",
    "        if not all_match:\n",
    "            break\n",
    "    if all_match:\n",
    "        match_group.append(g)\n",
    "        \n",
    "print(\"매칭 그룹:\", set(match_group))\n",
    "\n",
    "# 이렇게 하니까 너무 복잡해짐"
   ]
  },
  {
   "cell_type": "code",
   "execution_count": 12,
   "id": "b58a6efa",
   "metadata": {},
   "outputs": [
    {
     "data": {
      "text/plain": [
       "[4, 9]"
      ]
     },
     "execution_count": 12,
     "metadata": {},
     "output_type": "execute_result"
    }
   ],
   "source": [
    "match_group"
   ]
  },
  {
   "cell_type": "code",
   "execution_count": 13,
   "id": "8d6bdee3",
   "metadata": {},
   "outputs": [
    {
     "name": "stdout",
     "output_type": "stream",
     "text": [
      "     학년  임시반  임시번호  성별_명렬표 이름_명렬표  \\\n",
      "6     1    1     7       2    성민주   \n",
      "14    1    1    16       1    김범준   \n",
      "15    1    1    17       1    김동준   \n",
      "28    1    2     1       2    권보예   \n",
      "30    1    2     3       2    김소희   \n",
      "31    1    2     4       2    김예진   \n",
      "36    1    2     9       2    이유진   \n",
      "37    1    2    10       2    이은서   \n",
      "42    1    2    15       2    황시현   \n",
      "46    1    2    19       1    김환희   \n",
      "48    1    2    21       1    왕원호   \n",
      "50    1    2    24       1    이재욱   \n",
      "56    1    2    30       1    황현우   \n",
      "58    1    3     1       2    김시윤   \n",
      "62    1    3     5       2    박혜원   \n",
      "67    1    3    10       2    이새봄   \n",
      "73    1    3    16       1    강민서   \n",
      "90    1    4     4       2    박가은   \n",
      "91    1    4     5       2    배서연   \n",
      "92    1    4     6       2    백지우   \n",
      "101   1    4    15       2    한주미   \n",
      "102   1    4    16       1    김도연   \n",
      "105   1    4    20       1    도현수   \n",
      "112   1    4    30       1    홍지호   \n",
      "117   1    5     5       2    김서윤   \n",
      "121   1    5     9       2    박지인   \n",
      "131   1    5    19       1    송지민   \n",
      "137   1    5    25       1    전원규   \n",
      "139   1    5    27       1    조성훈   \n",
      "143   1    6     1       2    국경이   \n",
      "146   1    6     4       2    김아현   \n",
      "167   1    6    25       1    인예관   \n",
      "169   1    6    27       1    전희재   \n",
      "171   1    6    29       1    최서현   \n",
      "177   1    7     7       2    이서현   \n",
      "178   1    7     8       2    이준경   \n",
      "179   1    7     9       2    전혜민   \n",
      "192   1    7    24       1    이다한   \n",
      "199   1    8     1       2    김경민   \n",
      "205   1    8     7       2    류다현   \n",
      "211   1    8    13       2    정예빈   \n",
      "212   1    8    14       2    진혜주   \n",
      "226   1    8    29       1    최서현   \n",
      "231   1    9     4       2    김해원   \n",
      "234   1    9     7       2    이아현   \n",
      "235   1    9     8       2    이윤희   \n",
      "243   1    9    17       1    고건중   \n",
      "251   1    9    25       1    유준수   \n",
      "260   1   10     3       2    김도경   \n",
      "266   1   10     9       2    이새안   \n",
      "268   1   10    11       2    정진이   \n",
      "271   1   10    15       1    강선우   \n",
      "277   1   10    22       1    송민욱   \n",
      "281   1   10    26       1    정기혁   \n",
      "285   1   10    30       1    하승민   \n",
      "\n",
      "                                                  특이사항  merge_key    학교명  \\\n",
      "6                                                  NaN  101072성민주  천보중학교   \n",
      "14                                                 NaN  101161김범준  천보중학교   \n",
      "15                                                 NaN  101171김동준  천보중학교   \n",
      "28                                                 NaN  102012권보예  천보중학교   \n",
      "30                                                 NaN  102032김소희  천보중학교   \n",
      "31                                                 NaN  102042김예진  천보중학교   \n",
      "36                                                 NaN  102092이유진  천보중학교   \n",
      "37                                                 NaN  102102이은서  천보중학교   \n",
      "42                                                 NaN  102152황시현  천보중학교   \n",
      "46                                                 NaN  102191김환희  천보중학교   \n",
      "48                                                 NaN  102211왕원호  천보중학교   \n",
      "50                           10309 홍남경과 쌍생아(반 배정 상관없음)  102241이재욱  천보중학교   \n",
      "56                            10707 박소윤과 동명이인(다른 반 배정)  102301황현우  천보중학교   \n",
      "58                                                 NaN  103012김시윤  천보중학교   \n",
      "62                                                 NaN  103052박혜원  천보중학교   \n",
      "67                                                 NaN  103102이새봄  천보중학교   \n",
      "73                                                 NaN  103161강민서  천보중학교   \n",
      "90                                                 NaN  104042박가은  천보중학교   \n",
      "91                           10206 이현준과 쌍생아(반 배정 상관없음)  104052배서연  천보중학교   \n",
      "92                                                 NaN  104062백지우  천보중학교   \n",
      "101                                                NaN  104152한주미  천보중학교   \n",
      "102                                                NaN  104161김도연  천보중학교   \n",
      "105                               반 배정(추후 정원외 학적관리 예정)  104201도현수  천보중학교   \n",
      "112                                                NaN  104301홍지호  천보중학교   \n",
      "117                                                NaN  105052김서윤  천보중학교   \n",
      "121                                                NaN  105092박지인  천보중학교   \n",
      "131                                                NaN  105191송지민  천보중학교   \n",
      "137                                                NaN  105251전원규  천보중학교   \n",
      "139                                                NaN  105271조성훈  천보중학교   \n",
      "143  10108 김민경과 동명이인(다른 반 배정)\\n10621 우태경과 다른 반 배정\\n...  106012국경이  천보중학교   \n",
      "146                                                NaN  106042김아현  천보중학교   \n",
      "167                                                NaN  106251인예관  천보중학교   \n",
      "169                                                NaN  106271전희재  천보중학교   \n",
      "171                                                NaN  106291최서현  천보중학교   \n",
      "177                                                NaN  107072이서현  천보중학교   \n",
      "178                            10803 장원우와 쌍생아(다른 반 배정)  107082이준경  천보중학교   \n",
      "179                                                NaN  107092전혜민  천보중학교   \n",
      "192                                                NaN  107241이다한  천보중학교   \n",
      "199                                                NaN  108012김경민  천보중학교   \n",
      "205                                                NaN  108072류다현  천보중학교   \n",
      "211                                                NaN  108132정예빈  천보중학교   \n",
      "212                                                NaN  108142진혜주  천보중학교   \n",
      "226                                                NaN  108291최서현  천보중학교   \n",
      "231                                                NaN  109042김해원  천보중학교   \n",
      "234                                                NaN  109072이아현  천보중학교   \n",
      "235                                                NaN  109082이윤희  천보중학교   \n",
      "243                                                NaN  109171고건중  천보중학교   \n",
      "251                                                NaN  109251유준수  천보중학교   \n",
      "260                                                NaN  110032김도경  천보중학교   \n",
      "266                                                NaN  110092이새안  천보중학교   \n",
      "268                                                NaN  110112정진이  천보중학교   \n",
      "271                                                NaN  110151강선우  천보중학교   \n",
      "277                                                NaN  110221송민욱  천보중학교   \n",
      "281                                                NaN  110261정기혁  천보중학교   \n",
      "285                                                NaN  110301하승민  천보중학교   \n",
      "\n",
      "     학년반번호  성별_검사결과  ... T점수 평균  지능지수  지능지수 P  _merge  결시생 동명이인  동명이인_ID   합계  \\\n",
      "6    10107        2  ...     51   101    52.4    both    0    0      NaN  116   \n",
      "14   10116        1  ...     40    86    18.9    both    0    0      NaN  101   \n",
      "15   10117        1  ...     59   113    79.1    both    0    0      NaN  118   \n",
      "28   10201        2  ...     52   103    57.5    both    0    0      NaN  102   \n",
      "30   10203        2  ...     55   107    67.0    both    0    0      NaN  127   \n",
      "31   10204        2  ...     56   109    71.2    both    0    0      NaN  116   \n",
      "36   10209        2  ...     61   117    85.5    both    0    0      NaN  130   \n",
      "37   10210        2  ...     49    99    47.6    both    0    0      NaN  124   \n",
      "42   10215        2  ...     57   111    75.5    both    0    0      NaN  114   \n",
      "46   10219        1  ...     46    94    35.2    both    0    0      NaN  117   \n",
      "48   10221        1  ...     52   103    57.5    both    0    0      NaN  101   \n",
      "50   10224        1  ...     48    97    42.5    both    0    0      NaN  104   \n",
      "56   10230        1  ...     43    90    26.4    both    0    0      NaN  101   \n",
      "58   10301        2  ...     64   121    90.5    both    0    0      NaN  118   \n",
      "62   10305        2  ...     62   119    88.3    both    0    0      NaN  131   \n",
      "67   10310        2  ...     68   126    94.8    both    0    0      NaN  134   \n",
      "73   10316        1  ...     52   103    57.5    both    0    0      NaN  101   \n",
      "90   10404        2  ...     57   111    75.5    both    0    0      NaN  116   \n",
      "91   10405        2  ...     61   117    85.5    both    0    0      NaN  123   \n",
      "92   10406        2  ...     55   107    67.0    both    0    0      NaN  109   \n",
      "101  10415        2  ...     56   109    71.2    both    0    0      NaN  124   \n",
      "102  10416        1  ...     69   128    96.0    both    0    1    103.0  131   \n",
      "105  10420        1  ...     70   130    97.0    both    0    0      NaN  122   \n",
      "112  10430        1  ...     52   103    57.5    both    0    0      NaN  105   \n",
      "117  10505        2  ...     45    92    30.8    both    0    0      NaN   99   \n",
      "121  10509        2  ...     45    92    30.8    both    0    1    124.0  110   \n",
      "131  10519        1  ...     60   115    82.6    both    0    0      NaN  108   \n",
      "137  10525        1  ...     60   115    82.6    both    0    0      NaN  118   \n",
      "139  10527        1  ...     59   113    79.1    both    0    0      NaN  124   \n",
      "143  10601        2  ...     65   123    92.5    both    0    0      NaN  139   \n",
      "146  10604        2  ...     46    94    35.2    both    0    0      NaN  116   \n",
      "167  10625        1  ...     56   109    71.2    both    0    0      NaN  109   \n",
      "169  10627        1  ...     66   124    93.3    both    0    0      NaN  114   \n",
      "171  10629        1  ...     57   111    75.5    both    0    1    172.0  108   \n",
      "177  10707        2  ...     40    86    18.9    both    0    0      NaN   88   \n",
      "178  10708        2  ...     51   101    52.4    both    0    0      NaN  101   \n",
      "179  10709        2  ...     48    97    42.5    both    0    0      NaN  108   \n",
      "192  10724        1  ...     59   113    79.1    both    0    0      NaN  125   \n",
      "199  10801        2  ...     49    99    47.6    both    0    0      NaN  103   \n",
      "205  10807        2  ...     52   103    57.5    both    0    0      NaN  124   \n",
      "211  10813        2  ...     55   107    67.0    both    0    0      NaN  114   \n",
      "212  10814        2  ...     42    88    22.7    both    0    0      NaN   93   \n",
      "226  10829        1  ...     62   119    88.3    both    0    1    172.0  126   \n",
      "231  10904        2  ...     45    92    30.8    both    0    0      NaN  112   \n",
      "234  10907        2  ...     53   105    62.2    both    0    0      NaN  104   \n",
      "235  10908        2  ...     52   103    57.5    both    0    0      NaN  106   \n",
      "243  10917        1  ...     60   115    82.6    both    0    0      NaN  124   \n",
      "251  10925        1  ...     64   121    90.5    both    0    0      NaN  105   \n",
      "260  11003        2  ...     55   107    67.0    both    0    0      NaN  105   \n",
      "266  11009        2  ...     49    99    47.6    both    0    0      NaN  120   \n",
      "268  11011        2  ...     49    99    47.6    both    0    0      NaN  118   \n",
      "271  11015        1  ...     38    81    11.7    both    0    0      NaN   97   \n",
      "277  11022        1  ...     52   103    57.5    both    0    0      NaN   84   \n",
      "281  11026        1  ...     57   111    75.5    both    0    0      NaN   99   \n",
      "285  11030        1  ...     75   138    99.1    both    0    0      NaN  135   \n",
      "\n",
      "    초기그룹  상담 필요  \n",
      "6      4      0  \n",
      "14     4      0  \n",
      "15     4      0  \n",
      "28     4      1  \n",
      "30     9      0  \n",
      "31     4      0  \n",
      "36     4      1  \n",
      "37     4      0  \n",
      "42     4      0  \n",
      "46     9      1  \n",
      "48     9      1  \n",
      "50     9      1  \n",
      "56     4      1  \n",
      "58     9      1  \n",
      "62     4      1  \n",
      "67     9      0  \n",
      "73     4      1  \n",
      "90     9      0  \n",
      "91     9      0  \n",
      "92     4      1  \n",
      "101    4      0  \n",
      "102    4      1  \n",
      "105    9      0  \n",
      "112    9      0  \n",
      "117    4      1  \n",
      "121    9      1  \n",
      "131    9      0  \n",
      "137    4      0  \n",
      "139    9      0  \n",
      "143    9      1  \n",
      "146    4      1  \n",
      "167    9      1  \n",
      "169    4      0  \n",
      "171    9      1  \n",
      "177    9      1  \n",
      "178    9      0  \n",
      "179    4      0  \n",
      "192    9      1  \n",
      "199    9      1  \n",
      "205    4      0  \n",
      "211    4      1  \n",
      "212    9      1  \n",
      "226    9      0  \n",
      "231    9      0  \n",
      "234    9      0  \n",
      "235    9      1  \n",
      "243    4      0  \n",
      "251    4      1  \n",
      "260    9      0  \n",
      "266    9      0  \n",
      "268    4      1  \n",
      "271    4      0  \n",
      "277    4      1  \n",
      "281    4      1  \n",
      "285    4      1  \n",
      "\n",
      "[55 rows x 41 columns]\n"
     ]
    }
   ],
   "source": [
    "# 해당 그룹 중 가장 연속형 변수 값이 가까운 그룹 및 케이스 선택\n",
    "target_df = init_grouped_df[init_grouped_df['초기그룹'].isin(match_group)]\n",
    "print(target_df)"
   ]
  },
  {
   "cell_type": "code",
   "execution_count": 14,
   "id": "d182c6f2",
   "metadata": {},
   "outputs": [
    {
     "name": "stdout",
     "output_type": "stream",
     "text": [
      "['어휘적용력 T', '언어이해력 T']\n"
     ]
    }
   ],
   "source": [
    "# 사용자가 선택한 연속형 변수\n",
    "selected_sort_variable_dict = {'어휘적용력 T': True, '언어이해력 T': True}\n",
    "target_sort_variable = [key for key in selected_sort_variable_dict.keys()]\n",
    "print(target_sort_variable)"
   ]
  },
  {
   "cell_type": "code",
   "execution_count": null,
   "id": "61d418d7",
   "metadata": {},
   "outputs": [],
   "source": [
    "# 편차가 큰 그룹에서 누구를 교환해야하는지 정해야하네...?\n",
    "# 다 돌면서 서로 서로 교환을 하면서 모집단의 평균 및 표준편차가 가장 좋아지는 케이스를 찾아야하나?\n"
   ]
  }
 ],
 "metadata": {
  "kernelspec": {
   "display_name": "base",
   "language": "python",
   "name": "python3"
  },
  "language_info": {
   "codemirror_mode": {
    "name": "ipython",
    "version": 3
   },
   "file_extension": ".py",
   "mimetype": "text/x-python",
   "name": "python",
   "nbconvert_exporter": "python",
   "pygments_lexer": "ipython3",
   "version": "3.12.7"
  }
 },
 "nbformat": 4,
 "nbformat_minor": 5
}
