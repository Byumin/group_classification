{
 "cells": [
  {
   "cell_type": "code",
   "execution_count": 33,
   "id": "257631f1",
   "metadata": {},
   "outputs": [
    {
     "name": "stdout",
     "output_type": "stream",
     "text": [
      "[defaultdict(<function <listcomp>.<lambda> at 0x0000026C70963BA0>, {}), defaultdict(<function <listcomp>.<lambda> at 0x0000026C70962660>, {})]\n"
     ]
    }
   ],
   "source": [
    "# 이산형 변수에 대해서 그룹별 통계 초기화\n",
    "from collections import defaultdict\n",
    "\n",
    "group_count = 2\n",
    "group_stats = [defaultdict(lambda: defaultdict(int)) for _ in range(group_count)] # 각 그룹의 통계 저장용\n",
    "print(group_stats)"
   ]
  },
  {
   "cell_type": "code",
   "execution_count": 34,
   "id": "a9be3ba1",
   "metadata": {},
   "outputs": [
    {
     "name": "stdout",
     "output_type": "stream",
     "text": [
      "    학년  임시반  임시번호  성별_명렬표 이름_명렬표    특이사항 선택과목    merge_key    학교명  학년반번호  ...  \\\n",
      "0    1    1     4       2   김민준4   결석 잦음   경제   101041김민준4  천보중학교  10104  ...   \n",
      "1    1    3    17       2  이서연17   결석 잦음   경제  103171이서연17  천보중학교  10317  ...   \n",
      "2    2    1    10       1  김민준10    특수지원   경제  201101김민준10  천보중학교  20110  ...   \n",
      "3    2    1    11       1  이서연11     NaN   경제  201111이서연11  천보중학교  20111  ...   \n",
      "4    2    5     8       1   김민준8     전학생   경제   205081김민준8  천보중학교  20508  ...   \n",
      "5    1    1     5       1   이서연5  건강검진대상   윤리   101051이서연5  천보중학교  10105  ...   \n",
      "6    1    5    12       2  김민준12     NaN   윤리  105121김민준12  천보중학교  10512  ...   \n",
      "7    3    1    13       1  이서연13   결석 잦음   윤리  301131이서연13  천보중학교  30113  ...   \n",
      "8    3    1    16       1  김민준16     NaN   윤리  301161김민준16  천보중학교  30116  ...   \n",
      "9    3    5    20       1  김민준20   결석 잦음   윤리  305201김민준20  천보중학교  30520  ...   \n",
      "10   1    4     3       2   이서연3     전학생   경제   104032이서연3  천보중학교  10403  ...   \n",
      "11   2    2     1       1    이서연  건강검진대상   경제    202012이서연  천보중학교  20201  ...   \n",
      "12   2    2    14       2  김민준14     전학생   경제  202142김민준14  천보중학교  20214  ...   \n",
      "13   1    2    19       1  이서연19     NaN   윤리  102192이서연19  천보중학교  10219  ...   \n",
      "14   1    4     7       2    이서연  건강검진대상   윤리    104072이서연  천보중학교  10407  ...   \n",
      "15   2    2     6       2   김민준6  건강검진대상   윤리   202062김민준6  천보중학교  20206  ...   \n",
      "16   2    4    15       2  이서연15     전학생   윤리  204152이서연15  천보중학교  20415  ...   \n",
      "17   2    5     2       1   김민준2   결석 잦음   윤리   205022김민준2  천보중학교  20502  ...   \n",
      "18   3    3     9       2   이서연9     전학생   윤리   303092이서연9  천보중학교  30309  ...   \n",
      "19   3    5    18       2  김민준18   결석 잦음   윤리  305182김민준18  천보중학교  30518  ...   \n",
      "\n",
      "    추리력 수준 T점수 평균  지능지수  지능지수 P _merge  결시생  동명이인 동명이인_ID   합계  초기그룹  \n",
      "0       높음     77   117    41.7   both    0     0     NaN  130     0  \n",
      "1      보통상     67   109    80.4   both    0     0     NaN   83     0  \n",
      "2       높음     79    94    40.0   both    0     0     NaN  102     0  \n",
      "3       보통     64   122    31.4   both    0     0     NaN   97     0  \n",
      "4       높음     43    85    32.1   both    0     0     NaN  115     0  \n",
      "5     매우높음     48    87    35.1   both    0     0     NaN  154     0  \n",
      "6      보통상     54    87    65.5   both    0     0     NaN  122     0  \n",
      "7     매우높음     65   103    37.9   both    0     0     NaN  124     0  \n",
      "8     매우높음     59    92    48.3   both    0     0     NaN  118     0  \n",
      "9       낮음     67   127    68.6   both    0     0     NaN   91     0  \n",
      "10     보통상     79   107    24.7   both    0     0     NaN  152     1  \n",
      "11      낮음     65    92    21.3   both    0     1     6.0  120     1  \n",
      "12      보통     55   104    87.7   both    0     0     NaN  117     1  \n",
      "13    매우높음     75   122    41.6   both    0     0     NaN  120     1  \n",
      "14      낮음     65   120    45.7   both    0     1     6.0  122     1  \n",
      "15      낮음     44    85    79.0   both    0     0     NaN  102     1  \n",
      "16     보통상     66   101    33.8   both    0     0     NaN  119     1  \n",
      "17     보통상     44   108    24.6   both    0     0     NaN  109     1  \n",
      "18     보통상     58   119    87.6   both    0     0     NaN  126     1  \n",
      "19      높음     53   111    87.3   both    0     0     NaN  148     1  \n",
      "\n",
      "[20 rows x 36 columns]\n"
     ]
    }
   ],
   "source": [
    "import pandas as pd\n",
    "\n",
    "init_grouped_df = pd.read_excel('C:/Users/USER/group_classification/group_assign_df.xlsx')\n",
    "print(init_grouped_df)"
   ]
  },
  {
   "cell_type": "code",
   "execution_count": 35,
   "id": "448efff8",
   "metadata": {},
   "outputs": [
    {
     "name": "stdout",
     "output_type": "stream",
     "text": [
      "학년             int64\n",
      "임시반            int64\n",
      "임시번호           int64\n",
      "성별_명렬표         int64\n",
      "이름_명렬표        object\n",
      "특이사항          object\n",
      "선택과목          object\n",
      "merge_key     object\n",
      "학교명           object\n",
      "학년반번호          int64\n",
      "성별_검사결과        int64\n",
      "이름_검사결과       object\n",
      "어휘적용력 T        int64\n",
      "어휘적용력 P      float64\n",
      "어휘적용력 수준      object\n",
      "언어유추력 T        int64\n",
      "언어유추력 P      float64\n",
      "언어유추력 수준      object\n",
      "수리력 T          int64\n",
      "수리력 P        float64\n",
      "수리력 수준        object\n",
      "공간지각력 T        int64\n",
      "공간지각력 P      float64\n",
      "공간지각력 수준      object\n",
      "추리력 T          int64\n",
      "추리력 P        float64\n",
      "추리력 수준        object\n",
      "T점수 평균         int64\n",
      "지능지수           int64\n",
      "지능지수 P       float64\n",
      "_merge        object\n",
      "결시생            int64\n",
      "동명이인           int64\n",
      "동명이인_ID      float64\n",
      "합계             int64\n",
      "초기그룹           int64\n",
      "dtype: object\n"
     ]
    }
   ],
   "source": [
    "# 데이터 타입 확인\n",
    "print(init_grouped_df.dtypes)\n",
    "# '성별_명렬표' 열의 데이터 타입을 문자열로 변환\n",
    "#init_grouped_df['성별_명렬표'] = init_grouped_df['성별_명렬표'].astype(str)\n",
    "# 초기그룹 열의 데이터 타입을 문자열로 변환\n",
    "#init_grouped_df['초기그룹'] = init_grouped_df['초기그룹'].astype(str)"
   ]
  },
  {
   "cell_type": "code",
   "execution_count": 36,
   "id": "64f5f993",
   "metadata": {},
   "outputs": [
    {
     "name": "stdout",
     "output_type": "stream",
     "text": [
      "0\n",
      "0\n",
      "0\n",
      "0\n",
      "0\n",
      "0\n",
      "0\n",
      "0\n",
      "0\n",
      "0\n",
      "1\n",
      "1\n",
      "1\n",
      "1\n",
      "1\n",
      "1\n",
      "1\n",
      "1\n",
      "1\n",
      "1\n"
     ]
    }
   ],
   "source": [
    "for _, row in init_grouped_df.iterrows():\n",
    "    group = row['초기그룹']\n",
    "    print(group)\n",
    "    for col in ['성별_명렬표']:\n",
    "        val = row[col]\n",
    "        group_stats[group][col][val] += 1"
   ]
  },
  {
   "cell_type": "code",
   "execution_count": 37,
   "id": "43ef1b6b",
   "metadata": {},
   "outputs": [
    {
     "name": "stdout",
     "output_type": "stream",
     "text": [
      "[defaultdict(<function <listcomp>.<lambda> at 0x0000026C70963BA0>,\n",
      "             {'성별_명렬표': defaultdict(<class 'int'>, {2: 3, 1: 7})}),\n",
      " defaultdict(<function <listcomp>.<lambda> at 0x0000026C70962660>,\n",
      "             {'성별_명렬표': defaultdict(<class 'int'>, {2: 7, 1: 3})})]\n"
     ]
    }
   ],
   "source": [
    "from pprint import pprint\n",
    "\n",
    "# group_stats 출력\n",
    "pprint(group_stats)"
   ]
  },
  {
   "cell_type": "code",
   "execution_count": 38,
   "id": "e3e57545",
   "metadata": {},
   "outputs": [
    {
     "name": "stdout",
     "output_type": "stream",
     "text": [
      "3\n"
     ]
    }
   ],
   "source": [
    "# 특정 그룹(group)에서 '성별_명렬표'의 1 값을 가져오기\n",
    "value = group_stats[1]['성별_명렬표'][1]  # 정수형 키로 접근\n",
    "print(value)"
   ]
  },
  {
   "cell_type": "code",
   "execution_count": 40,
   "id": "5715df33",
   "metadata": {},
   "outputs": [],
   "source": [
    "ideal_group_stats = defaultdict(lambda: defaultdict(float)) # 각 범주형 변수의 이상적인 그룹 통계 저장용\n",
    "for _, row in init_grouped_df.iterrows():\n",
    "    for col in ['성별_명렬표']:\n",
    "        val = row[col]\n",
    "        ideal_group_stats[col][val] += 1 # 전체 빈도 계산"
   ]
  },
  {
   "cell_type": "code",
   "execution_count": 41,
   "id": "72b027fb",
   "metadata": {},
   "outputs": [
    {
     "name": "stdout",
     "output_type": "stream",
     "text": [
      "defaultdict(<function <lambda> at 0x0000026C709636A0>,\n",
      "            {'성별_명렬표': defaultdict(<class 'float'>, {2: 10.0, 1: 10.0})})\n"
     ]
    }
   ],
   "source": [
    "from pprint import pprint\n",
    "\n",
    "# group_stats 출력\n",
    "pprint(ideal_group_stats)"
   ]
  },
  {
   "cell_type": "code",
   "execution_count": null,
   "id": "0027c23e",
   "metadata": {},
   "outputs": [],
   "source": []
  }
 ],
 "metadata": {
  "kernelspec": {
   "display_name": "base",
   "language": "python",
   "name": "python3"
  },
  "language_info": {
   "codemirror_mode": {
    "name": "ipython",
    "version": 3
   },
   "file_extension": ".py",
   "mimetype": "text/x-python",
   "name": "python",
   "nbconvert_exporter": "python",
   "pygments_lexer": "ipython3",
   "version": "3.11.5"
  }
 },
 "nbformat": 4,
 "nbformat_minor": 5
}
